{
 "cells": [
  {
   "cell_type": "code",
   "execution_count": 3,
   "id": "6c20306e-7583-44ae-9401-37328df80997",
   "metadata": {},
   "outputs": [
    {
     "name": "stdout",
     "output_type": "stream",
     "text": [
      "Hello, Git and Jupyter! Test ssh\n"
     ]
    }
   ],
   "source": [
    "print(\"Hello, Git and Jupyter! Test ssh\")"
   ]
  },
  {
   "cell_type": "code",
   "execution_count": 1,
   "id": "9bae33ff-cd13-4b70-a349-4e14ed44c605",
   "metadata": {},
   "outputs": [
    {
     "name": "stdout",
     "output_type": "stream",
     "text": [
      "[main e16faf8] Commentaire Commit\n",
      " 1 file changed, 71 insertions(+), 151 deletions(-)\n",
      " rewrite test_ssh.ipynb (63%)\n",
      "Énumération des objets: 5, fait.\n",
      "Décompte des objets: 100% (5/5), fait.\n",
      "Compression par delta en utilisant jusqu'à 2 fils d'exécution\n",
      "Compression des objets: 100% (3/3), fait.\n",
      "Écriture des objets: 100% (3/3), 488 octets | 488.00 Kio/s, fait.\n",
      "Total 3 (delta 1), réutilisés 0 (delta 0), réutilisés du pack 0\n",
      "remote: Resolving deltas: 100% (1/1), completed with 1 local object.\u001b[K\n",
      "To github.com:Cherycoco/Python.git\n",
      "   2998e46..e16faf8  main -> main\n"
     ]
    }
   ],
   "source": [
    "!git add test_ssh.ipynb && git commit -m \"Commentaire Commit\" && git push origin main\n"
   ]
  }
 ],
 "metadata": {
  "kernelspec": {
   "display_name": "Python 3 (ipykernel)",
   "language": "python",
   "name": "python3"
  },
  "language_info": {
   "codemirror_mode": {
    "name": "ipython",
    "version": 3
   },
   "file_extension": ".py",
   "mimetype": "text/x-python",
   "name": "python",
   "nbconvert_exporter": "python",
   "pygments_lexer": "ipython3",
   "version": "3.10.12"
  }
 },
 "nbformat": 4,
 "nbformat_minor": 5
}
