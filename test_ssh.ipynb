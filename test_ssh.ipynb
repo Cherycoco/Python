{
 "cells": [
  {
   "cell_type": "code",
   "execution_count": 3,
   "id": "6c20306e-7583-44ae-9401-37328df80997",
   "metadata": {},
   "outputs": [
    {
     "name": "stdout",
     "output_type": "stream",
     "text": [
      "Hello, Git and Jupyter! Test ssh\n"
     ]
    }
   ],
   "source": [
    "print(\"Hello, Git and Jupyter! Test ssh\")"
   ]
  },
  {
   "cell_type": "code",
   "execution_count": 1,
   "id": "9bae33ff-cd13-4b70-a349-4e14ed44c605",
   "metadata": {},
   "outputs": [
    {
     "name": "stdout",
     "output_type": "stream",
     "text": [
      "error: droits insuffisants pour ajouter un objet à la base de données .git/objects du dépôt\n",
      "error: Erreur lors de la construction des arbres\n"
     ]
    }
   ],
   "source": [
    "!git add test_ssh.ipynb && git commit -m \"Commentaire Commit\" && git push origin main\n"
   ]
  }
 ],
 "metadata": {
  "kernelspec": {
   "display_name": "Python 3 (ipykernel)",
   "language": "python",
   "name": "python3"
  },
  "language_info": {
   "codemirror_mode": {
    "name": "ipython",
    "version": 3
   },
   "file_extension": ".py",
   "mimetype": "text/x-python",
   "name": "python",
   "nbconvert_exporter": "python",
   "pygments_lexer": "ipython3",
   "version": "3.10.12"
  }
 },
 "nbformat": 4,
 "nbformat_minor": 5
}
