{
 "cells": [
  {
   "cell_type": "code",
   "execution_count": 3,
   "id": "6c20306e-7583-44ae-9401-37328df80997",
   "metadata": {},
   "outputs": [
    {
     "name": "stdout",
     "output_type": "stream",
     "text": [
      "Hello, Git and Jupyter! Test ssh\n"
     ]
    }
   ],
   "source": [
    "print(\"Hello, Git and Jupyter! Test ssh\")"
   ]
  },
  {
   "cell_type": "code",
   "execution_count": 4,
   "id": "2d3143a3-29cd-4b21-b50e-2f08d9dd5754",
   "metadata": {},
   "outputs": [
    {
     "name": "stdout",
     "output_type": "stream",
     "text": [
      "Sur la branche main\n",
      "Votre branche est à jour avec 'origin/main'.\n",
      "\n",
      "Modifications qui ne seront pas validées :\n",
      "  (utilisez \"git add/rm <fichier>...\" pour mettre à jour ce qui sera validé)\n",
      "  (utilisez \"git restore <fichier>...\" pour annuler les modifications dans le répertoire de travail)\n",
      "\t\u001b[31msupprimé :        Untitled.ipynb\u001b[m\n",
      "\n",
      "Fichiers non suivis:\n",
      "  (utilisez \"git add <fichier>...\" pour inclure dans ce qui sera validé)\n",
      "\t\u001b[31m.ipynb_checkpoints/\u001b[m\n",
      "\t\u001b[31mcours_lundi.ipynb\u001b[m\n",
      "\t\u001b[31mtest_ssh.ipynb\u001b[m\n",
      "\n",
      "aucune modification n'a été ajoutée à la validation (utilisez \"git add\" ou \"git commit -a\")\n"
     ]
    }
   ],
   "source": [
    "!git status"
   ]
  },
  {
   "cell_type": "code",
   "execution_count": 7,
   "id": "d376e72f-5cd1-4428-943c-f368125e564b",
   "metadata": {},
   "outputs": [],
   "source": [
    "!git add test_ssh.ipynb"
   ]
  },
  {
   "cell_type": "code",
   "execution_count": 11,
   "id": "1b1581ae-1463-4a44-b1b8-e2e7d142738c",
   "metadata": {},
   "outputs": [
    {
     "name": "stdout",
     "output_type": "stream",
     "text": [
      "[main f1c928f] Ajout du fichier test_ssh.ipynb depuis Jupyter\n",
      " 1 file changed, 59 insertions(+)\n",
      " create mode 100644 test_ssh.ipynb\n"
     ]
    }
   ],
   "source": [
    "!git commit -m \"Ajout du fichier test_ssh.ipynb depuis Jupyter\""
   ]
  },
  {
   "cell_type": "code",
   "execution_count": 13,
   "id": "cdf92743-8b67-4157-8220-4363dff8851f",
   "metadata": {},
   "outputs": [
    {
     "name": "stdout",
     "output_type": "stream",
     "text": [
      "Everything up-to-date\n"
     ]
    }
   ],
   "source": [
    "!git push origin main\n",
    "\n"
   ]
  },
  {
   "cell_type": "code",
   "execution_count": 15,
   "id": "9bae33ff-cd13-4b70-a349-4e14ed44c605",
   "metadata": {},
   "outputs": [
    {
     "name": "stdout",
     "output_type": "stream",
     "text": [
      "[main e63a94a] Commentaire Commit\n",
      " 1 file changed, 77 insertions(+), 5 deletions(-)\n",
      "Énumération des objets: 5, fait.\n",
      "Décompte des objets: 100% (5/5), fait.\n",
      "Compression par delta en utilisant jusqu'à 2 fils d'exécution\n",
      "Compression des objets: 100% (3/3), fait.\n",
      "Écriture des objets: 100% (3/3), 1.43 Kio | 1.43 Mio/s, fait.\n",
      "Total 3 (delta 0), réutilisés 0 (delta 0), réutilisés du pack 0\n",
      "To github.com:Cherycoco/Python.git\n",
      "   f1c928f..e63a94a  main -> main\n"
     ]
    }
   ],
   "source": [
    "!git add test_ssh.ipynb && git commit -m \"Commentaire Commit\" && git push origin main\n"
   ]
  }
 ],
 "metadata": {
  "kernelspec": {
   "display_name": "Python 3 (ipykernel)",
   "language": "python",
   "name": "python3"
  },
  "language_info": {
   "codemirror_mode": {
    "name": "ipython",
    "version": 3
   },
   "file_extension": ".py",
   "mimetype": "text/x-python",
   "name": "python",
   "nbconvert_exporter": "python",
   "pygments_lexer": "ipython3",
   "version": "3.10.12"
  }
 },
 "nbformat": 4,
 "nbformat_minor": 5
}
