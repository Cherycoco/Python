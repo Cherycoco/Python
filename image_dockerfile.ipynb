{
 "cells": [
  {
   "cell_type": "code",
   "execution_count": 3,
   "id": "5ef32fea-46d9-4313-b4c9-c81e8e76db1b",
   "metadata": {},
   "outputs": [
    {
     "name": "stdout",
     "output_type": "stream",
     "text": [
      "/home/coco/Python/fastapi-docker-app\n"
     ]
    }
   ],
   "source": [
    "# Créer le répertoire du projet et se déplacer dedans\n",
    "!mkdir fastapi-docker-app\n",
    "%cd fastapi-docker-app\n"
   ]
  },
  {
   "cell_type": "code",
   "execution_count": 4,
   "id": "cc28752c-d5b5-4fb9-b5c1-269bf4b0fc67",
   "metadata": {},
   "outputs": [
    {
     "name": "stdout",
     "output_type": "stream",
     "text": [
      "Writing main.py\n"
     ]
    }
   ],
   "source": [
    "%%writefile main.py\n",
    "\n",
    "from fastapi import FastAPI\n",
    "\n",
    "app = FastAPI()\n",
    "\n",
    "@app.get(\"/\")\n",
    "async def root():\n",
    "    return {\"message\": \"Hello World!\"}\n"
   ]
  },
  {
   "cell_type": "code",
   "execution_count": 5,
   "id": "2885d851-2d8c-4ff1-a722-c82ac46e9690",
   "metadata": {},
   "outputs": [
    {
     "name": "stdout",
     "output_type": "stream",
     "text": [
      "Writing Dockerfile\n"
     ]
    }
   ],
   "source": [
    "%%writefile Dockerfile\n",
    "\n",
    "# Utiliser une image officielle FastAPI basée sur Python 3.8\n",
    "FROM tiangolo/uvicorn-gunicorn-fastapi:python3.8-slim\n",
    "\n",
    "# Copier le contenu du répertoire courant dans le conteneur\n",
    "COPY ./ /app\n",
    "\n",
    "# Exposer le port 80 pour les connexions externes\n",
    "EXPOSE 80\n",
    "\n",
    "# Démarrer le serveur FastAPI avec Uvicorn\n",
    "CMD [\"uvicorn\", \"main:app\", \"--host\", \"0.0.0.0\", \"--port\", \"80\"]\n"
   ]
  },
  {
   "cell_type": "code",
   "execution_count": 1,
   "id": "67b22060-3bc1-4105-b5b3-beb8e0191768",
   "metadata": {},
   "outputs": [
    {
     "name": "stdout",
     "output_type": "stream",
     "text": [
      "\u001b[1A\u001b[1B\u001b[0G\u001b[?25l[+] Building 0.0s (0/1)                                          docker:default\n",
      "\u001b[?25h\u001b[1A\u001b[0G\u001b[?25l[+] Building 0.2s (1/2)                                          docker:default\n",
      "\u001b[34m => [internal] load build definition from Dockerfile                       0.0s\n",
      "\u001b[0m\u001b[34m => => transferring dockerfile: 402B                                       0.0s\n",
      "\u001b[0m => [internal] load metadata for docker.io/tiangolo/uvicorn-gunicorn-fast  0.2s\n",
      "\u001b[?25h\u001b[1A\u001b[1A\u001b[1A\u001b[1A\u001b[0G\u001b[?25l[+] Building 0.3s (1/2)                                          docker:default\n",
      "\u001b[34m => [internal] load build definition from Dockerfile                       0.0s\n",
      "\u001b[0m\u001b[34m => => transferring dockerfile: 402B                                       0.0s\n",
      "\u001b[0m => [internal] load metadata for docker.io/tiangolo/uvicorn-gunicorn-fast  0.3s\n",
      "\u001b[?25h\u001b[1A\u001b[1A\u001b[1A\u001b[1A\u001b[0G\u001b[?25l[+] Building 0.5s (1/2)                                          docker:default\n",
      "\u001b[34m => [internal] load build definition from Dockerfile                       0.0s\n",
      "\u001b[0m\u001b[34m => => transferring dockerfile: 402B                                       0.0s\n",
      "\u001b[0m => [internal] load metadata for docker.io/tiangolo/uvicorn-gunicorn-fast  0.5s\n",
      "\u001b[?25h\u001b[1A\u001b[1A\u001b[1A\u001b[1A\u001b[0G\u001b[?25l[+] Building 0.6s (1/2)                                          docker:default\n",
      "\u001b[34m => [internal] load build definition from Dockerfile                       0.0s\n",
      "\u001b[0m\u001b[34m => => transferring dockerfile: 402B                                       0.0s\n",
      "\u001b[0m => [internal] load metadata for docker.io/tiangolo/uvicorn-gunicorn-fast  0.6s\n",
      "\u001b[?25h\u001b[1A\u001b[1A\u001b[1A\u001b[1A\u001b[0G\u001b[?25l[+] Building 0.8s (1/2)                                          docker:default\n",
      "\u001b[34m => [internal] load build definition from Dockerfile                       0.0s\n",
      "\u001b[0m\u001b[34m => => transferring dockerfile: 402B                                       0.0s\n",
      "\u001b[0m => [internal] load metadata for docker.io/tiangolo/uvicorn-gunicorn-fast  0.8s\n",
      "\u001b[?25h\u001b[1A\u001b[1A\u001b[1A\u001b[1A\u001b[0G\u001b[?25l[+] Building 0.9s (1/2)                                          docker:default\n",
      "\u001b[34m => [internal] load build definition from Dockerfile                       0.0s\n",
      "\u001b[0m\u001b[34m => => transferring dockerfile: 402B                                       0.0s\n",
      "\u001b[0m => [internal] load metadata for docker.io/tiangolo/uvicorn-gunicorn-fast  0.9s\n",
      "\u001b[?25h\u001b[1A\u001b[1A\u001b[1A\u001b[1A\u001b[0G\u001b[?25l[+] Building 1.0s (2/2)                                          docker:default\n",
      "\u001b[34m => [internal] load build definition from Dockerfile                       0.0s\n",
      "\u001b[0m\u001b[34m => => transferring dockerfile: 402B                                       0.0s\n",
      "\u001b[0m\u001b[34m => [internal] load metadata for docker.io/tiangolo/uvicorn-gunicorn-fast  1.0s\n",
      "\u001b[0m\u001b[?25h\u001b[1A\u001b[1A\u001b[1A\u001b[1A\u001b[0G\u001b[?25l[+] Building 1.2s (4/6)                                          docker:default\n",
      "\u001b[34m => [internal] load build definition from Dockerfile                       0.0s\n",
      "\u001b[0m\u001b[34m => => transferring dockerfile: 402B                                       0.0s\n",
      "\u001b[0m\u001b[34m => [internal] load metadata for docker.io/tiangolo/uvicorn-gunicorn-fast  1.0s\n",
      "\u001b[0m\u001b[34m => [internal] load .dockerignore                                          0.0s\n",
      "\u001b[0m\u001b[34m => => transferring context: 2B                                            0.0s\n",
      "\u001b[0m => [internal] load build context                                          0.1s\n",
      "\u001b[34m => => transferring context: 3.53MB                                        0.1s\n",
      "\u001b[0m\u001b[34m => [1/2] FROM docker.io/tiangolo/uvicorn-gunicorn-fastapi:python3.8-slim  0.0s\n",
      "\u001b[0m\u001b[?25h\u001b[1A\u001b[1A\u001b[1A\u001b[1A\u001b[1A\u001b[1A\u001b[1A\u001b[1A\u001b[1A\u001b[0G\u001b[?25l[+] Building 1.3s (6/7)                                          docker:default\n",
      "\u001b[34m => [internal] load build definition from Dockerfile                       0.0s\n",
      "\u001b[0m\u001b[34m => => transferring dockerfile: 402B                                       0.0s\n",
      "\u001b[0m\u001b[34m => [internal] load metadata for docker.io/tiangolo/uvicorn-gunicorn-fast  1.0s\n",
      "\u001b[0m\u001b[34m => [internal] load .dockerignore                                          0.0s\n",
      "\u001b[0m\u001b[34m => => transferring context: 2B                                            0.0s\n",
      "\u001b[0m\u001b[34m => [internal] load build context                                          0.1s\n",
      "\u001b[0m\u001b[34m => => transferring context: 3.53MB                                        0.1s\n",
      "\u001b[0m\u001b[34m => CACHED [1/2] FROM docker.io/tiangolo/uvicorn-gunicorn-fastapi:python3  0.0s\n",
      "\u001b[0m\u001b[34m => [2/2] COPY ./ /app                                                     0.1s\n",
      "\u001b[0m => exporting to image                                                     0.0s\n",
      "\u001b[34m => => exporting layers                                                    0.0s\n",
      "\u001b[0m\u001b[?25h\u001b[1A\u001b[1A\u001b[1A\u001b[1A\u001b[1A\u001b[1A\u001b[1A\u001b[1A\u001b[1A\u001b[1A\u001b[1A\u001b[1A\u001b[0G\u001b[?25l[+] Building 1.3s (7/7) FINISHED                                 docker:default\n",
      "\u001b[34m => [internal] load build definition from Dockerfile                       0.0s\n",
      "\u001b[0m\u001b[34m => => transferring dockerfile: 402B                                       0.0s\n",
      "\u001b[0m\u001b[34m => [internal] load metadata for docker.io/tiangolo/uvicorn-gunicorn-fast  1.0s\n",
      "\u001b[0m\u001b[34m => [internal] load .dockerignore                                          0.0s\n",
      "\u001b[0m\u001b[34m => => transferring context: 2B                                            0.0s\n",
      "\u001b[0m\u001b[34m => [internal] load build context                                          0.1s\n",
      "\u001b[0m\u001b[34m => => transferring context: 3.53MB                                        0.1s\n",
      "\u001b[0m\u001b[34m => CACHED [1/2] FROM docker.io/tiangolo/uvicorn-gunicorn-fastapi:python3  0.0s\n",
      "\u001b[0m\u001b[34m => [2/2] COPY ./ /app                                                     0.1s\n",
      "\u001b[0m\u001b[34m => exporting to image                                                     0.1s\n",
      "\u001b[0m\u001b[34m => => exporting layers                                                    0.0s\n",
      "\u001b[0m\u001b[34m => => writing image sha256:361d4dc99e138eb8e73862ccd45dabbdb729ca56fa396  0.0s\n",
      "\u001b[0m\u001b[34m => => naming to docker.io/library/fastapi-demo                            0.0s\n",
      "\u001b[0m\u001b[?25hWARNING: current commit information was not captured by the build: failed to read current commit information with git rev-parse --is-inside-work-tree\n"
     ]
    }
   ],
   "source": [
    "# Construire l'image Docker\n",
    "!sudo docker build -t fastapi-demo .\n"
   ]
  },
  {
   "cell_type": "code",
   "execution_count": 5,
   "id": "6d75f58f-ae4c-464c-8e7a-9f428fa81ee5",
   "metadata": {},
   "outputs": [
    {
     "name": "stdout",
     "output_type": "stream",
     "text": [
      "INFO:     Started server process [1]\n",
      "INFO:     Waiting for application startup.\n",
      "INFO:     Application startup complete.\n",
      "INFO:     Uvicorn running on http://0.0.0.0:80 (Press CTRL+C to quit)\n",
      "^C\n",
      "INFO:     Shutting down\n",
      "INFO:     Waiting for application shutdown.\n",
      "INFO:     Application shutdown complete.\n",
      "INFO:     Finished server process [1]\n"
     ]
    }
   ],
   "source": [
    "# Lancer l'application dans un conteneur Docker\n",
    "!docker run -p 80:80 fastapi-demo\n"
   ]
  },
  {
   "cell_type": "code",
   "execution_count": 7,
   "id": "225c3143-1f0a-4faa-9db5-67b33861d1bd",
   "metadata": {},
   "outputs": [
    {
     "name": "stdout",
     "output_type": "stream",
     "text": [
      "REPOSITORY     TAG       IMAGE ID       CREATED          SIZE\r\n",
      "fastapi-demo   latest    361d4dc99e13   4 minutes ago    169MB\r\n",
      "<none>         <none>    c848e852775c   17 minutes ago   165MB\r\n"
     ]
    }
   ],
   "source": [
    "!docker images"
   ]
  },
  {
   "cell_type": "code",
   "execution_count": 9,
   "id": "590290ee-f373-4ed2-a299-f51b10ceaf4c",
   "metadata": {},
   "outputs": [
    {
     "name": "stdout",
     "output_type": "stream",
     "text": [
      "Identité d'auteur inconnue\r\n",
      "\r\n",
      "*** Veuillez me dire qui vous êtes.\r\n",
      "\r\n",
      "Lancez\r\n",
      "\r\n",
      "  git config --global user.email \"Vous@exemple.com\"\r\n",
      "  git config --global user.name \"Votre Nom\"\r\n",
      "\r\n",
      "pour régler l'identité par défaut de votre compte.\r\n",
      "Éliminez --global pour ne faire les réglages que dans ce dépôt.\r\n",
      "\r\n",
      "fatal: impossible de détecter automatiquement l'adresse ('root@coco-virtual-machine.(none)' trouvé)\r\n"
     ]
    }
   ],
   "source": [
    "!git add image_dockerfile.ipynb && git commit -m \"Création d'un dockerfile\" && git push origin main"
   ]
  },
  {
   "cell_type": "code",
   "execution_count": null,
   "id": "6a40b608-41a8-4863-bbb9-a945c7eeae51",
   "metadata": {},
   "outputs": [],
   "source": [
    "git config --global user.email \"corentin.chery@hotmail.fr\"\n",
    "git config --global user.name \"Votre Nom\""
   ]
  }
 ],
 "metadata": {
  "kernelspec": {
   "display_name": "Python 3 (ipykernel)",
   "language": "python",
   "name": "python3"
  },
  "language_info": {
   "codemirror_mode": {
    "name": "ipython",
    "version": 3
   },
   "file_extension": ".py",
   "mimetype": "text/x-python",
   "name": "python",
   "nbconvert_exporter": "python",
   "pygments_lexer": "ipython3",
   "version": "3.10.12"
  }
 },
 "nbformat": 4,
 "nbformat_minor": 5
}
