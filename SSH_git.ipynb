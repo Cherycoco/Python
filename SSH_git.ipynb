{
 "cells": [
  {
   "cell_type": "code",
   "execution_count": 3,
   "id": "7a75ed8a-1a22-478d-bbb4-6a8d2fb1e5cc",
   "metadata": {},
   "outputs": [
    {
     "name": "stdout",
     "output_type": "stream",
     "text": [
      "/home/coco/Python\n"
     ]
    }
   ],
   "source": [
    "cd /home/coco/Python\n"
   ]
  },
  {
   "cell_type": "code",
   "execution_count": 5,
   "id": "5a6cda06-eb3a-4842-956f-da1f3291cd6d",
   "metadata": {},
   "outputs": [],
   "source": [
    "!git add ."
   ]
  },
  {
   "cell_type": "code",
   "execution_count": 6,
   "id": "783e410a-c2af-4766-be00-88a753c2f86a",
   "metadata": {},
   "outputs": [
    {
     "name": "stdout",
     "output_type": "stream",
     "text": [
      "Sur la branche main\n",
      "Votre branche est à jour avec 'origin/main'.\n",
      "\n",
      "rien à valider, la copie de travail est propre\n"
     ]
    }
   ],
   "source": [
    "!git commit -m \"test\""
   ]
  },
  {
   "cell_type": "code",
   "execution_count": 7,
   "id": "8b5286d4-be93-412c-a5e6-b201380046d6",
   "metadata": {},
   "outputs": [
    {
     "name": "stdout",
     "output_type": "stream",
     "text": [
      "Everything up-to-date\n"
     ]
    }
   ],
   "source": [
    "!git push"
   ]
  },
  {
   "cell_type": "code",
   "execution_count": null,
   "id": "c7973b43-99d2-4d3c-bd9a-cde52d7dadf3",
   "metadata": {},
   "outputs": [],
   "source": []
  },
  {
   "cell_type": "code",
   "execution_count": null,
   "id": "f0aeb499-d496-4dbe-9ef0-7402261dd760",
   "metadata": {},
   "outputs": [],
   "source": []
  },
  {
   "cell_type": "code",
   "execution_count": null,
   "id": "8bfe113d-9044-40aa-b6e7-81959bb6abf3",
   "metadata": {},
   "outputs": [],
   "source": []
  }
 ],
 "metadata": {
  "kernelspec": {
   "display_name": "Python 3 (ipykernel)",
   "language": "python",
   "name": "python3"
  },
  "language_info": {
   "codemirror_mode": {
    "name": "ipython",
    "version": 3
   },
   "file_extension": ".py",
   "mimetype": "text/x-python",
   "name": "python",
   "nbconvert_exporter": "python",
   "pygments_lexer": "ipython3",
   "version": "3.10.12"
  }
 },
 "nbformat": 4,
 "nbformat_minor": 5
}
