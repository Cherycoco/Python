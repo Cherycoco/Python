{
 "cells": [
  {
   "cell_type": "code",
   "execution_count": 5,
   "id": "7a75ed8a-1a22-478d-bbb4-6a8d2fb1e5cc",
   "metadata": {},
   "outputs": [
    {
     "name": "stdout",
     "output_type": "stream",
     "text": [
      "* \u001b[32mmain\u001b[m\n"
     ]
    }
   ],
   "source": [
    "!git branch"
   ]
  },
  {
   "cell_type": "code",
   "execution_count": null,
   "id": "94c3b0aa-bea5-439c-a8e6-431f16f852b6",
   "metadata": {},
   "outputs": [],
   "source": [
    "!git add ."
   ]
  },
  {
   "cell_type": "code",
   "execution_count": 7,
   "id": "7d04e59a-b992-4f75-b772-331eda33310b",
   "metadata": {
    "scrolled": true
   },
   "outputs": [
    {
     "name": "stdout",
     "output_type": "stream",
     "text": [
      "Sur la branche main\n",
      "Votre branche est à jour avec 'origin/main'.\n",
      "\n",
      "Modifications qui seront validées :\n",
      "  (utilisez \"git restore --staged <fichier>...\" pour désindexer)\n",
      "\t\u001b[32mnouveau fichier : .ipynb_checkpoints/Dockerfile-checkpoint\u001b[m\n",
      "\t\u001b[32mnouveau fichier : .ipynb_checkpoints/Reseau_Docker-checkpoint.ipynb\u001b[m\n",
      "\t\u001b[32mnouveau fichier : .ipynb_checkpoints/SSH_git-checkpoint.ipynb\u001b[m\n",
      "\t\u001b[32mnouveau fichier : .ipynb_checkpoints/Volumes_Docker-checkpoint.ipynb\u001b[m\n",
      "\t\u001b[32mnouveau fichier : Docker_Compose/.ipynb_checkpoints/Docker_compose-checkpoint.ipynb\u001b[m\n",
      "\t\u001b[32mmodifié :         Docker_Compose/Docker_compose.ipynb\u001b[m\n",
      "\t\u001b[32mnouveau fichier : Docker_Compose/app/Dockerfile\u001b[m\n",
      "\t\u001b[32mnouveau fichier : Docker_Compose/app/app.py\u001b[m\n",
      "\t\u001b[32mnouveau fichier : Docker_Compose/app/requirements.txt\u001b[m\n",
      "\t\u001b[32mnouveau fichier : Docker_Compose/docker-compose.yml\u001b[m\n",
      "\t\u001b[32mmodifié :         Dockerfile\u001b[m\n",
      "\t\u001b[32mnouveau fichier : Reseau_Docker.ipynb\u001b[m\n",
      "\t\u001b[32mnouveau fichier : SSH_git.ipynb\u001b[m\n",
      "\t\u001b[32mmodifié :         Volumes_Docker.ipynb\u001b[m\n",
      "\t\u001b[32mnouveau fichier : app/.ipynb_checkpoints/app-checkpoint.py\u001b[m\n",
      "\t\u001b[32mnouveau fichier : app/app.py\u001b[m\n",
      "\t\u001b[32mnouveau fichier : requirements.txt\u001b[m\n",
      "\n"
     ]
    }
   ],
   "source": [
    "!git status"
   ]
  },
  {
   "cell_type": "code",
   "execution_count": 2,
   "id": "5bdf0a99-02b2-4e1a-b155-6293f0202b52",
   "metadata": {},
   "outputs": [
    {
     "name": "stdout",
     "output_type": "stream",
     "text": [
      "error: droits insuffisants pour ajouter un objet à la base de données .git/objects du dépôt\n",
      "error: Erreur lors de la construction des arbres\n"
     ]
    }
   ],
   "source": [
    "!git commit -m \"Ajout de tous les fichiers\"\n"
   ]
  },
  {
   "cell_type": "code",
   "execution_count": 2,
   "id": "0364d6ee-c183-4995-bf1e-6bb56516f9bd",
   "metadata": {},
   "outputs": [
    {
     "name": "stdout",
     "output_type": "stream",
     "text": [
      "1000\n"
     ]
    }
   ],
   "source": [
    "\n"
   ]
  }
 ],
 "metadata": {
  "kernelspec": {
   "display_name": "Python 3 (ipykernel)",
   "language": "python",
   "name": "python3"
  },
  "language_info": {
   "codemirror_mode": {
    "name": "ipython",
    "version": 3
   },
   "file_extension": ".py",
   "mimetype": "text/x-python",
   "name": "python",
   "nbconvert_exporter": "python",
   "pygments_lexer": "ipython3",
   "version": "3.10.12"
  }
 },
 "nbformat": 4,
 "nbformat_minor": 5
}
