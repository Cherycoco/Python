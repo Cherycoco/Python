{
 "cells": [
  {
   "cell_type": "code",
   "execution_count": 1,
   "id": "c27414b5-a64b-4163-9574-c9025d0b4963",
   "metadata": {},
   "outputs": [
    {
     "name": "stdout",
     "output_type": "stream",
     "text": [
      "0820bd31ff51d59a28ce877664e6ecd1e033bb0624770e00d95e5238f34c8275\n"
     ]
    }
   ],
   "source": [
    "!docker network create mynetwork"
   ]
  },
  {
   "cell_type": "code",
   "execution_count": 2,
   "id": "621d70fb-8dcf-4c7c-86df-9591efc1bae8",
   "metadata": {},
   "outputs": [
    {
     "name": "stdout",
     "output_type": "stream",
     "text": [
      "Unable to find image 'alpine:latest' locally\n",
      "latest: Pulling from library/alpine\n",
      "\n",
      "\u001b[1BDigest: sha256:beefdbd8a1da6d2915566fde36db9db0b524eb737fc57cd1367effd16dc0d06d\n",
      "Status: Downloaded newer image for alpine:latest\n",
      "1b1ab5a10d80cabc010482bbf75834f9985967181083b9b760b9ba2991e5a645\n"
     ]
    }
   ],
   "source": [
    "!docker run --name container1 --network mynetwork -d alpine sleep 3000"
   ]
  },
  {
   "cell_type": "code",
   "execution_count": 3,
   "id": "967db26e-9d38-4fb4-8618-a82964dbf101",
   "metadata": {},
   "outputs": [
    {
     "name": "stdout",
     "output_type": "stream",
     "text": [
      "18f9049987a0fb81bc5e4fd1654c54f1398378644f02f95b375ce859d75d35b2\n"
     ]
    }
   ],
   "source": [
    "!docker run --name container2 --network mynetwork -d alpine sleep 3000"
   ]
  },
  {
   "cell_type": "code",
   "execution_count": 4,
   "id": "07d6e89b-8163-4c92-9fc9-602c76da5e96",
   "metadata": {},
   "outputs": [
    {
     "name": "stdout",
     "output_type": "stream",
     "text": [
      "4a204eb9fb12616918f687ba08f4b1a912e34ce96f17c1cb1b56dea783af5318\n"
     ]
    }
   ],
   "source": [
    "!docker run --name container3 -d alpine sleep 3000"
   ]
  },
  {
   "cell_type": "code",
   "execution_count": 5,
   "id": "6946c251-e5a8-4d78-938f-e8ffaaf90f43",
   "metadata": {},
   "outputs": [
    {
     "name": "stdout",
     "output_type": "stream",
     "text": [
      "PING container1 (172.18.0.2): 56 data bytes\n",
      "64 bytes from 172.18.0.2: seq=0 ttl=64 time=0.191 ms\n",
      "64 bytes from 172.18.0.2: seq=1 ttl=64 time=0.111 ms\n",
      "64 bytes from 172.18.0.2: seq=2 ttl=64 time=0.155 ms\n",
      "64 bytes from 172.18.0.2: seq=3 ttl=64 time=0.088 ms\n",
      "\n",
      "--- container1 ping statistics ---\n",
      "4 packets transmitted, 4 packets received, 0% packet loss\n",
      "round-trip min/avg/max = 0.088/0.136/0.191 ms\n"
     ]
    }
   ],
   "source": [
    "!docker exec container2 ping -c 4 container1"
   ]
  },
  {
   "cell_type": "code",
   "execution_count": 6,
   "id": "8365d485-9927-4bfa-a88f-8e4aa0b50bdc",
   "metadata": {},
   "outputs": [
    {
     "name": "stdout",
     "output_type": "stream",
     "text": [
      "ping: bad address 'container1'\n"
     ]
    }
   ],
   "source": [
    "!docker exec container3 ping -c 4 container1"
   ]
  },
  {
   "cell_type": "code",
   "execution_count": 7,
   "id": "bab357b4-95c8-4ed5-9efd-92f19fbeeb88",
   "metadata": {},
   "outputs": [
    {
     "name": "stdout",
     "output_type": "stream",
     "text": [
      "container1\n",
      "container2\n",
      "container3\n",
      "container1\n",
      "container2\n",
      "container3\n",
      "mynetwork\n"
     ]
    }
   ],
   "source": [
    "#Pour supprimer à la fin\n",
    "!docker stop container1 container2 container3\n",
    "!docker rm container1 container2 container3\n",
    "!docker network rm mynetwork"
   ]
  },
  {
   "cell_type": "code",
   "execution_count": null,
   "id": "1af1d5dd-3ce8-4343-8c6d-925e84c57920",
   "metadata": {},
   "outputs": [],
   "source": [
    "!git add Reseau_Docker.ipynb && git commit -m \"Docker Reseau\" && git push origin main"
   ]
  }
 ],
 "metadata": {
  "kernelspec": {
   "display_name": "Python 3 (ipykernel)",
   "language": "python",
   "name": "python3"
  },
  "language_info": {
   "codemirror_mode": {
    "name": "ipython",
    "version": 3
   },
   "file_extension": ".py",
   "mimetype": "text/x-python",
   "name": "python",
   "nbconvert_exporter": "python",
   "pygments_lexer": "ipython3",
   "version": "3.10.12"
  }
 },
 "nbformat": 4,
 "nbformat_minor": 5
}
